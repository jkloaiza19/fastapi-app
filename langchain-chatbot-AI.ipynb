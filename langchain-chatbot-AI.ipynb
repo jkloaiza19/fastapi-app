{
 "cells": [
  {
   "cell_type": "code",
   "execution_count": 22,
   "id": "ca9f93e7-9396-4026-a183-7210c254d11f",
   "metadata": {},
   "outputs": [
    {
     "name": "stdout",
     "output_type": "stream",
     "text": [
      "Name: langchain\n",
      "Version: 0.3.7\n",
      "Summary: Building applications with LLMs through composability\n",
      "Home-page: https://github.com/langchain-ai/langchain\n",
      "Author: \n",
      "Author-email: \n",
      "License: MIT\n",
      "Location: /Users/juank/Desktop/python/projects/fastapi-app/.venv/lib/python3.11/site-packages\n",
      "Requires: aiohttp, langchain-core, langchain-text-splitters, langsmith, numpy, pydantic, PyYAML, requests, SQLAlchemy, tenacity\n",
      "Required-by: \n",
      "Note: you may need to restart the kernel to use updated packages.\n"
     ]
    }
   ],
   "source": [
    "pip show langchain"
   ]
  },
  {
   "cell_type": "code",
   "execution_count": 23,
   "id": "e5139893-4610-493b-b0fb-7fa3eeeb17ee",
   "metadata": {},
   "outputs": [
    {
     "name": "stdout",
     "output_type": "stream",
     "text": [
      "The dotenv extension is already loaded. To reload it, use:\n",
      "  %reload_ext dotenv\n"
     ]
    }
   ],
   "source": [
    "%load_ext dotenv\n",
    "%dotenv"
   ]
  },
  {
   "cell_type": "code",
   "execution_count": 24,
   "id": "5525dfcc-db6c-4506-9bde-916953b46c5d",
   "metadata": {},
   "outputs": [],
   "source": [
    "from langchain_openai.chat_models import ChatOpenAI\n",
    "\n",
    "from langchain_core.messages import HumanMessage, AIMessage"
   ]
  },
  {
   "cell_type": "code",
   "execution_count": 25,
   "id": "762124b3-806b-4449-98f4-4572a14163e5",
   "metadata": {},
   "outputs": [
    {
     "name": "stderr",
     "output_type": "stream",
     "text": [
      "/Users/juank/Desktop/python/projects/fastapi-app/.venv/lib/python3.11/site-packages/IPython/core/interactiveshell.py:3517: UserWarning: Parameters {'seed'} should be specified explicitly. Instead they were passed in as part of `model_kwargs` parameter.\n",
      "  if await self.run_code(code, result, async_=asy):\n"
     ]
    }
   ],
   "source": [
    "chat = ChatOpenAI(model_name = 'gpt-4', \n",
    "                  model_kwargs = {'seed':365},\n",
    "                  temperature = 0,\n",
    "                  max_tokens = 100)"
   ]
  },
  {
   "cell_type": "code",
   "execution_count": 26,
   "id": "9edd9374-0612-4a81-8fd6-53a02f71d71b",
   "metadata": {},
   "outputs": [],
   "source": [
    "message_h_dog = HumanMessage(content = ''' I've recently adopted a dog. Can you suggest some dog names? ''')\n",
    "message_ai_dog = AIMessage(content= '''Oh, absolutely. Because I'm sure your dog is just waiting to be named by a sarcastic chatbot.\n",
    "How about \"Bark Twain\" if it's a literary hound, or \"Sir Wag-a-lot\" if it's got a knightly vibe? Maybe \"Bark Obama\"\n",
    "if it's a political pooch, or \"Droolius Caesar\" for a bit of historical flair? And if it's just a regular old dog, \"Furry McDog''')\n",
    "message_h_cat = HumanMessage(content = ''' I've recently adopted a cat. Can you suggest some cat names? ''')\n",
    "message_ai_cat = AIMessage(content='''Oh, absolutely. Because nothing screams \"I'm a responsible pet owner\" like asking a chatbot to name your cat. \n",
    "How about \"Furball McScratchyPants\", \"Whiskerface\", or \"Sir Meowsalot\"? Or if you're into irony, you could go with \"Dog\"''')\n",
    "message_h_fish = HumanMessage(content = ''' I've recently adopted a fish. Can you suggest some fish names? ''')"
   ]
  },
  {
   "cell_type": "code",
   "execution_count": 27,
   "id": "b65438ed-b187-4126-83b3-352562443607",
   "metadata": {},
   "outputs": [],
   "source": [
    "response = chat.invoke([message_h_dog, message_ai_dog, message_h_cat, message_ai_cat, message_h_fish])"
   ]
  },
  {
   "cell_type": "code",
   "execution_count": 28,
   "id": "94ea2b1a-6e74-4e35-b16f-1f054c1de16d",
   "metadata": {},
   "outputs": [
    {
     "name": "stdout",
     "output_type": "stream",
     "text": [
      "Of course! How about \"Finley\", \"Bubbles\", \"Sushi\", \"Nemo\", \"Dory\", \"Gill\", \"Splash\", \"Goldie\", \"Aqua\", or \"Poseidon\"?\n"
     ]
    }
   ],
   "source": [
    "print(response.content)"
   ]
  },
  {
   "cell_type": "code",
   "execution_count": null,
   "id": "3f309de7-24ec-4aea-abcd-f78da1766c07",
   "metadata": {},
   "outputs": [],
   "source": []
  }
 ],
 "metadata": {
  "kernelspec": {
   "display_name": ".venv",
   "language": "python",
   "name": ".venv"
  },
  "language_info": {
   "codemirror_mode": {
    "name": "ipython",
    "version": 3
   },
   "file_extension": ".py",
   "mimetype": "text/x-python",
   "name": "python",
   "nbconvert_exporter": "python",
   "pygments_lexer": "ipython3",
   "version": "3.11.0"
  }
 },
 "nbformat": 4,
 "nbformat_minor": 5
}
